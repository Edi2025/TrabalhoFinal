{
 "cells": [
  {
   "cell_type": "markdown",
   "id": "a547c121-9039-4581-96fe-30fa95579eae",
   "metadata": {},
   "source": [
    "# API Exemplos Request"
   ]
  },
  {
   "cell_type": "code",
   "execution_count": 146,
   "id": "f38eec11-a9dc-47a0-a760-c896700ebb7c",
   "metadata": {},
   "outputs": [
    {
     "name": "stdout",
     "output_type": "stream",
     "text": [
      "Sucesso:\n",
      "{'predicao': 'economia'}\n"
     ]
    }
   ],
   "source": [
    "import requests\n",
    "import json\n",
    "\n",
    "# URL do endpoint\n",
    "url = 'https://f529-168-228-200-134.ngrok-free.app/predict'\n",
    "\n",
    "# Dados para enviar como entrada para o modelo\n",
    "data = {'texto': 'O mercado financeiro iniciou o mês em alta, impulsionado pelo otimismo dos investidores diante dos sinais de recuperação da economia global. A valorização das commodities e a redução nas tensões comerciais entre as grandes potências contribuíram para um aumento na confiança do mercado. No entanto, analistas alertam que a inflação persistente e as incertezas fiscais ainda representam riscos significativos para o crescimento econômico sustentável a longo prazo.'}\n",
    "#data = {'texto': 'nova lei será discutida na próxima semana'}\n",
    "#data = {'texto': 'O campeonato nacional de futebol está entrando em sua reta final, e a disputa pelo título permanece acirrada. Com apenas três pontos de diferença entre o líder e o segundo colocado, os próximos jogos prometem fortes emoções para os torcedores. O destaque da temporada tem sido o jovem atacante do time líder, que marcou gols decisivos e chamou a atenção de clubes internacionais. A torcida já começa a sonhar com a conquista de mais um troféu para a galeria do clube.'}\n",
    "#data = {'texto': 'famoso divulga novidades'}\n",
    "#data = {'texto': 'A inteligência artificial continua a revolucionar o setor de tecnologia, com novas inovações surgindo a cada dia. Recentemente, uma startup anunciou o desenvolvimento de um assistente virtual capaz de entender emoções humanas com alta precisão, prometendo transformar a forma como interagimos com dispositivos. Além disso, as gigantes do setor estão investindo pesado em computação quântica, buscando soluções para problemas complexos que os computadores tradicionais não conseguem resolver.'}\n",
    "headers = {'Content-Type': 'application/json'}\n",
    "\n",
    "response = requests.post(url, headers=headers, data=json.dumps(data))\n",
    "\n",
    "if response.status_code == 200:\n",
    "    print(\"Sucesso:\")\n",
    "    print(response.json())\n",
    "else:\n",
    "    print(\"Falha na requisição:\")\n",
    "    print(response.status_code, response.text)"
   ]
  },
  {
   "cell_type": "code",
   "execution_count": null,
   "id": "180e5d25-4a90-47c8-afb6-b90acbb75cca",
   "metadata": {},
   "outputs": [],
   "source": []
  }
 ],
 "metadata": {
  "kernelspec": {
   "display_name": "Python 3 (ipykernel)",
   "language": "python",
   "name": "python3"
  },
  "language_info": {
   "codemirror_mode": {
    "name": "ipython",
    "version": 3
   },
   "file_extension": ".py",
   "mimetype": "text/x-python",
   "name": "python",
   "nbconvert_exporter": "python",
   "pygments_lexer": "ipython3",
   "version": "3.12.4"
  }
 },
 "nbformat": 4,
 "nbformat_minor": 5
}
